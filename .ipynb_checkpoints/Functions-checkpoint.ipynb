{
 "cells": [
  {
   "cell_type": "code",
   "execution_count": 1,
   "id": "146afe2b",
   "metadata": {},
   "outputs": [],
   "source": [
    "def apply_emission_factor(df, description_col, ef_map, qty_col=\"Qty in Un. of Entry\", unit_conversion=1000):\n",
    "    \"\"\"\n",
    "    Maps emission factors to a dataframe and calculates total emissions.\n",
    "\n",
    "    Parameters:\n",
    "    - df: input dataframe\n",
    "    - description_col: column to match against keys in ef_map\n",
    "    - ef_map: dictionary mapping keywords to emission factors (kg CO2e per kg)\n",
    "    - qty_col: column representing quantity in kg\n",
    "    - unit_conversion: divide by 1000 to convert to tonnes CO2e\n",
    "\n",
    "    Returns:\n",
    "    - df with new columns: \"Emission Factor (kg CO2e/kg)\" and \"Emissions(tCO2e)\"\n",
    "    \"\"\"\n",
    "    def match_factor(desc):\n",
    "        desc = str(desc).lower()\n",
    "        for key, val in ef_map.items():\n",
    "            if key.lower() in desc:\n",
    "                return val\n",
    "        return 0  # default fallback\n",
    "\n",
    "    df[\"Emission Factor (kg CO2e/kg)\"] = df[description_col].apply(match_factor)\n",
    "    df[\"Emissions(tCO2e)\"] = df[qty_col] * df[\"Emission Factor (kg CO2e/kg)\"] / unit_conversion\n",
    "    return df"
   ]
  },
  {
   "cell_type": "code",
   "execution_count": 2,
   "id": "7ff014cd",
   "metadata": {},
   "outputs": [],
   "source": [
    "def map_to_business_unit(df, org_map_df, plant_col=\"Plant\"):\n",
    "    \"\"\"\n",
    "    Merges org mapping and assigns Business Unit using Level 1 fallback.\n",
    "\n",
    "    Parameters:\n",
    "    - df: input dataframe with 'Plant'\n",
    "    - org_map_df: mapping dataframe with 'Plant', 'Level 1', and 'Level 2'\n",
    "\n",
    "    Returns:\n",
    "    - merged dataframe with 'Business Unit'\n",
    "    \"\"\"\n",
    "    org_map_df = org_map_df.rename(columns={\"Unit mapping\": \"Plant\"})\n",
    "    merged_df = pd.merge(df, org_map_df, on=plant_col, how=\"left\")\n",
    "    merged_df[\"Business Unit\"] = merged_df[\"Level 1\"].combine_first(merged_df[\"Level 2\"])\n",
    "    return merged_df.drop(columns=[\"Level 1\", \"Level 2\"])"
   ]
  },
  {
   "cell_type": "code",
   "execution_count": null,
   "id": "4b15e91c",
   "metadata": {},
   "outputs": [],
   "source": []
  }
 ],
 "metadata": {
  "kernelspec": {
   "display_name": "Python 3 (ipykernel)",
   "language": "python",
   "name": "python3"
  },
  "language_info": {
   "codemirror_mode": {
    "name": "ipython",
    "version": 3
   },
   "file_extension": ".py",
   "mimetype": "text/x-python",
   "name": "python",
   "nbconvert_exporter": "python",
   "pygments_lexer": "ipython3",
   "version": "3.11.8"
  },
  "toc": {
   "base_numbering": 1,
   "nav_menu": {},
   "number_sections": true,
   "sideBar": true,
   "skip_h1_title": false,
   "title_cell": "Table of Contents",
   "title_sidebar": "Contents",
   "toc_cell": false,
   "toc_position": {},
   "toc_section_display": true,
   "toc_window_display": false
  },
  "varInspector": {
   "cols": {
    "lenName": 16,
    "lenType": 16,
    "lenVar": 40
   },
   "kernels_config": {
    "python": {
     "delete_cmd_postfix": "",
     "delete_cmd_prefix": "del ",
     "library": "var_list.py",
     "varRefreshCmd": "print(var_dic_list())"
    },
    "r": {
     "delete_cmd_postfix": ") ",
     "delete_cmd_prefix": "rm(",
     "library": "var_list.r",
     "varRefreshCmd": "cat(var_dic_list()) "
    }
   },
   "types_to_exclude": [
    "module",
    "function",
    "builtin_function_or_method",
    "instance",
    "_Feature"
   ],
   "window_display": false
  }
 },
 "nbformat": 4,
 "nbformat_minor": 5
}
