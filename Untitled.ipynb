{
 "cells": [
  {
   "cell_type": "code",
   "execution_count": null,
   "id": "14f69d7e",
   "metadata": {},
   "outputs": [],
   "source": [
    "import pandas as pd\n",
    "\n",
    "# Load Scope 3 files\n",
    "fertilizer_df = pd.read_excel(\"raw_data/fertilizer.xlsx\")\n",
    "trading_df = pd.read_excel(\"raw_data/trading_and_imports.xlsx\")\n",
    "transport_df = pd.read_excel(\"raw_data/upstream_transportation.xlsx\")\n",
    "waste_df = pd.read_excel(\"raw_data/waste_disposal.xlsx\")\n",
    "travel_df = pd.read_excel(\"raw_data/business_travel.xlsx\")\n",
    "warehouse_df = pd.read_excel(\"raw_data/warehousing_spend.xlsx\")\n",
    "\n",
    "# Preview top 5 rows for each\n",
    "print(\"📄 fertilizer.xlsx\")\n",
    "display(fertilizer_df.head())\n",
    "\n",
    "print(\"\\n📄 trading_and_imports.xlsx\")\n",
    "display(trading_df.head())\n",
    "\n",
    "print(\"\\n📄 upstream_transportation.xlsx\")\n",
    "display(transport_df.head())\n",
    "\n",
    "print(\"\\n📄 waste_disposal.xlsx\")\n",
    "display(waste_df.head())\n",
    "\n",
    "print(\"\\n📄 business_travel.xlsx\")\n",
    "display(travel_df.head())\n",
    "\n",
    "print(\"\\n📄 warehousing_spend.xlsx\")\n",
    "display(warehouse_df.head())\n",
    "print(\"warehousing_spend.xlsx:\", warehouse_df.shape)"
   ]
  }
 ],
 "metadata": {
  "kernelspec": {
   "display_name": "Python 3 (ipykernel)",
   "language": "python",
   "name": "python3"
  },
  "language_info": {
   "codemirror_mode": {
    "name": "ipython",
    "version": 3
   },
   "file_extension": ".py",
   "mimetype": "text/x-python",
   "name": "python",
   "nbconvert_exporter": "python",
   "pygments_lexer": "ipython3",
   "version": "3.11.8"
  },
  "toc": {
   "base_numbering": 1,
   "nav_menu": {},
   "number_sections": true,
   "sideBar": true,
   "skip_h1_title": false,
   "title_cell": "Table of Contents",
   "title_sidebar": "Contents",
   "toc_cell": false,
   "toc_position": {},
   "toc_section_display": true,
   "toc_window_display": false
  },
  "varInspector": {
   "cols": {
    "lenName": 16,
    "lenType": 16,
    "lenVar": 40
   },
   "kernels_config": {
    "python": {
     "delete_cmd_postfix": "",
     "delete_cmd_prefix": "del ",
     "library": "var_list.py",
     "varRefreshCmd": "print(var_dic_list())"
    },
    "r": {
     "delete_cmd_postfix": ") ",
     "delete_cmd_prefix": "rm(",
     "library": "var_list.r",
     "varRefreshCmd": "cat(var_dic_list()) "
    }
   },
   "types_to_exclude": [
    "module",
    "function",
    "builtin_function_or_method",
    "instance",
    "_Feature"
   ],
   "window_display": false
  }
 },
 "nbformat": 4,
 "nbformat_minor": 5
}
