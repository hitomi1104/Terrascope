{
 "cells": [
  {
   "cell_type": "code",
   "execution_count": 4,
   "id": "b98e22c9",
   "metadata": {},
   "outputs": [],
   "source": [
    " import pandas as pd\n",
    "\n",
    "biodiesel_df = pd.read_excel(\"raw_data/biodiesel.xlsx\")\n",
    "org_map_df = pd.read_excel(\"raw_data/org_mapping.xlsx\")"
   ]
  },
  {
   "cell_type": "code",
   "execution_count": 10,
   "id": "6a2e342f",
   "metadata": {},
   "outputs": [
    {
     "data": {
      "text/html": [
       "<div>\n",
       "<style scoped>\n",
       "    .dataframe tbody tr th:only-of-type {\n",
       "        vertical-align: middle;\n",
       "    }\n",
       "\n",
       "    .dataframe tbody tr th {\n",
       "        vertical-align: top;\n",
       "    }\n",
       "\n",
       "    .dataframe thead th {\n",
       "        text-align: right;\n",
       "    }\n",
       "</style>\n",
       "<table border=\"1\" class=\"dataframe\">\n",
       "  <thead>\n",
       "    <tr style=\"text-align: right;\">\n",
       "      <th></th>\n",
       "      <th>Plant</th>\n",
       "      <th>Posting Date</th>\n",
       "      <th>Material</th>\n",
       "      <th>Material Description</th>\n",
       "      <th>Total quantity</th>\n",
       "      <th>Posted unit of meas.</th>\n",
       "      <th>Order</th>\n",
       "      <th>CO object name</th>\n",
       "      <th>Period</th>\n",
       "      <th>Fiscal Year</th>\n",
       "    </tr>\n",
       "  </thead>\n",
       "  <tbody>\n",
       "    <tr>\n",
       "      <th>0</th>\n",
       "      <td>1925</td>\n",
       "      <td>2021-01-02</td>\n",
       "      <td>20027697</td>\n",
       "      <td>Biodiesel 30%</td>\n",
       "      <td>300</td>\n",
       "      <td>L</td>\n",
       "      <td>BUS-03-1925</td>\n",
       "      <td>Toyota Dyna Rino (Bus Sekolah)</td>\n",
       "      <td>1</td>\n",
       "      <td>2021</td>\n",
       "    </tr>\n",
       "    <tr>\n",
       "      <th>1</th>\n",
       "      <td>1922</td>\n",
       "      <td>2021-01-02</td>\n",
       "      <td>20027697</td>\n",
       "      <td>Biodiesel 30%</td>\n",
       "      <td>340</td>\n",
       "      <td>L</td>\n",
       "      <td>JEEP-22-1922</td>\n",
       "      <td>Toyota Hilux B 9299 PBD MGR</td>\n",
       "      <td>1</td>\n",
       "      <td>2021</td>\n",
       "    </tr>\n",
       "    <tr>\n",
       "      <th>2</th>\n",
       "      <td>1922</td>\n",
       "      <td>2021-01-02</td>\n",
       "      <td>20027697</td>\n",
       "      <td>Biodiesel 30%</td>\n",
       "      <td>600</td>\n",
       "      <td>L</td>\n",
       "      <td>JEEP-24-1922</td>\n",
       "      <td>Toyota Hilux B 9299 PBB</td>\n",
       "      <td>1</td>\n",
       "      <td>2021</td>\n",
       "    </tr>\n",
       "    <tr>\n",
       "      <th>3</th>\n",
       "      <td>1921</td>\n",
       "      <td>2021-01-02</td>\n",
       "      <td>20027697</td>\n",
       "      <td>Biodiesel 30%</td>\n",
       "      <td>800</td>\n",
       "      <td>L</td>\n",
       "      <td>JEEP-30-1921</td>\n",
       "      <td>Toyota Hilux B9557PBD Askep</td>\n",
       "      <td>1</td>\n",
       "      <td>2021</td>\n",
       "    </tr>\n",
       "    <tr>\n",
       "      <th>4</th>\n",
       "      <td>1925</td>\n",
       "      <td>2021-01-02</td>\n",
       "      <td>20027697</td>\n",
       "      <td>Biodiesel 30%</td>\n",
       "      <td>400</td>\n",
       "      <td>L</td>\n",
       "      <td>JEEP-35-1925</td>\n",
       "      <td>Toyota Hilux B9387PBD MBL ASKEPRY.1</td>\n",
       "      <td>1</td>\n",
       "      <td>2021</td>\n",
       "    </tr>\n",
       "  </tbody>\n",
       "</table>\n",
       "</div>"
      ],
      "text/plain": [
       "   Plant Posting Date  Material Material Description  Total quantity  \\\n",
       "0   1925   2021-01-02  20027697        Biodiesel 30%             300   \n",
       "1   1922   2021-01-02  20027697        Biodiesel 30%             340   \n",
       "2   1922   2021-01-02  20027697        Biodiesel 30%             600   \n",
       "3   1921   2021-01-02  20027697        Biodiesel 30%             800   \n",
       "4   1925   2021-01-02  20027697        Biodiesel 30%             400   \n",
       "\n",
       "  Posted unit of meas.         Order                       CO object name  \\\n",
       "0                    L   BUS-03-1925       Toyota Dyna Rino (Bus Sekolah)   \n",
       "1                    L  JEEP-22-1922          Toyota Hilux B 9299 PBD MGR   \n",
       "2                    L  JEEP-24-1922              Toyota Hilux B 9299 PBB   \n",
       "3                    L  JEEP-30-1921          Toyota Hilux B9557PBD Askep   \n",
       "4                    L  JEEP-35-1925  Toyota Hilux B9387PBD MBL ASKEPRY.1   \n",
       "\n",
       "   Period  Fiscal Year  \n",
       "0       1         2021  \n",
       "1       1         2021  \n",
       "2       1         2021  \n",
       "3       1         2021  \n",
       "4       1         2021  "
      ]
     },
     "execution_count": 10,
     "metadata": {},
     "output_type": "execute_result"
    }
   ],
   "source": [
    "biodiesel_df.head()"
   ]
  },
  {
   "cell_type": "code",
   "execution_count": 11,
   "id": "94852aeb",
   "metadata": {},
   "outputs": [
    {
     "data": {
      "text/html": [
       "<div>\n",
       "<style scoped>\n",
       "    .dataframe tbody tr th:only-of-type {\n",
       "        vertical-align: middle;\n",
       "    }\n",
       "\n",
       "    .dataframe tbody tr th {\n",
       "        vertical-align: top;\n",
       "    }\n",
       "\n",
       "    .dataframe thead th {\n",
       "        text-align: right;\n",
       "    }\n",
       "</style>\n",
       "<table border=\"1\" class=\"dataframe\">\n",
       "  <thead>\n",
       "    <tr style=\"text-align: right;\">\n",
       "      <th></th>\n",
       "      <th>Unit mapping</th>\n",
       "      <th>Level 1</th>\n",
       "      <th>Level 2</th>\n",
       "    </tr>\n",
       "  </thead>\n",
       "  <tbody>\n",
       "    <tr>\n",
       "      <th>0</th>\n",
       "      <td>1005</td>\n",
       "      <td>BU1</td>\n",
       "      <td>NaN</td>\n",
       "    </tr>\n",
       "    <tr>\n",
       "      <th>1</th>\n",
       "      <td>1922</td>\n",
       "      <td>NaN</td>\n",
       "      <td>BU4</td>\n",
       "    </tr>\n",
       "    <tr>\n",
       "      <th>2</th>\n",
       "      <td>1923</td>\n",
       "      <td>NaN</td>\n",
       "      <td>BU5</td>\n",
       "    </tr>\n",
       "    <tr>\n",
       "      <th>3</th>\n",
       "      <td>1924</td>\n",
       "      <td>NaN</td>\n",
       "      <td>BU6</td>\n",
       "    </tr>\n",
       "    <tr>\n",
       "      <th>4</th>\n",
       "      <td>1920</td>\n",
       "      <td>BU2</td>\n",
       "      <td>NaN</td>\n",
       "    </tr>\n",
       "  </tbody>\n",
       "</table>\n",
       "</div>"
      ],
      "text/plain": [
       "   Unit mapping Level 1 Level 2\n",
       "0          1005     BU1     NaN\n",
       "1          1922     NaN     BU4\n",
       "2          1923     NaN     BU5\n",
       "3          1924     NaN     BU6\n",
       "4          1920     BU2     NaN"
      ]
     },
     "execution_count": 11,
     "metadata": {},
     "output_type": "execute_result"
    }
   ],
   "source": [
    "org_map_df.head()"
   ]
  },
  {
   "cell_type": "markdown",
   "id": "2373931e",
   "metadata": {},
   "source": [
    "According to the UK Government’s DEFRA 2021 dataset, under the Fuels tab, the factor for:\n",
    "\n",
    "Biodiesel (30% blend, known as B30) used in transportation (mobile combustion)\n",
    "\n",
    "is approximately:2.49 kg CO₂e per liter = 0.00249 t CO₂e per liter"
   ]
  },
  {
   "cell_type": "code",
   "execution_count": 12,
   "id": "a20248d0",
   "metadata": {},
   "outputs": [],
   "source": [
    "EMISSION_FACTOR = 0.00249  # tCO2e per liter\n",
    "biodiesel_df[\"Emissions(tCO2e)\"] = biodiesel_df[\"Total quantity\"] * EMISSION_FACTOR"
   ]
  },
  {
   "cell_type": "code",
   "execution_count": null,
   "id": "c5033238",
   "metadata": {},
   "outputs": [],
   "source": []
  }
 ],
 "metadata": {
  "kernelspec": {
   "display_name": "Python 3 (ipykernel)",
   "language": "python",
   "name": "python3"
  },
  "language_info": {
   "codemirror_mode": {
    "name": "ipython",
    "version": 3
   },
   "file_extension": ".py",
   "mimetype": "text/x-python",
   "name": "python",
   "nbconvert_exporter": "python",
   "pygments_lexer": "ipython3",
   "version": "3.11.8"
  },
  "toc": {
   "base_numbering": 1,
   "nav_menu": {},
   "number_sections": true,
   "sideBar": true,
   "skip_h1_title": false,
   "title_cell": "Table of Contents",
   "title_sidebar": "Contents",
   "toc_cell": false,
   "toc_position": {},
   "toc_section_display": true,
   "toc_window_display": false
  },
  "varInspector": {
   "cols": {
    "lenName": 16,
    "lenType": 16,
    "lenVar": 40
   },
   "kernels_config": {
    "python": {
     "delete_cmd_postfix": "",
     "delete_cmd_prefix": "del ",
     "library": "var_list.py",
     "varRefreshCmd": "print(var_dic_list())"
    },
    "r": {
     "delete_cmd_postfix": ") ",
     "delete_cmd_prefix": "rm(",
     "library": "var_list.r",
     "varRefreshCmd": "cat(var_dic_list()) "
    }
   },
   "types_to_exclude": [
    "module",
    "function",
    "builtin_function_or_method",
    "instance",
    "_Feature"
   ],
   "window_display": false
  }
 },
 "nbformat": 4,
 "nbformat_minor": 5
}
